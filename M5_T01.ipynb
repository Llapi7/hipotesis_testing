{
 "cells": [
  {
   "cell_type": "markdown",
   "id": "12396cab",
   "metadata": {},
   "source": [
    "- Exercici 1\n",
    "Descarrega el dataset adjunt de dades oficials de la UEFA i selecciona un atribut del conjunt de dades. Calcula el p-valor i digues si rebutja la hipòtesi nul·la agafant un alfa de 5%. \n",
    "\n",
    "\n",
    "\n"
   ]
  },
  {
   "cell_type": "code",
   "execution_count": 18,
   "id": "4b556bb1",
   "metadata": {},
   "outputs": [
    {
     "data": {
      "text/plain": [
       "Index(['Rk', 'Squad', 'Country', 'LgRk', 'MP', 'W', 'D', 'L', 'GF', 'GA', 'GD',\n",
       "       'Pts', 'Pts/G', 'xG', 'xGA', 'xGD', 'xGD/90', 'Last 5', 'Attendance',\n",
       "       'Top Team Scorer', 'Goalkeeper'],\n",
       "      dtype='object')"
      ]
     },
     "execution_count": 18,
     "metadata": {},
     "output_type": "execute_result"
    }
   ],
   "source": [
    "import pandas as pd\n",
    "import numpy as np\n",
    "\n",
    "data = pd.read_csv('Lligues europees UEFA.csv', sep =\";\", encoding = 'Latin',)\n",
    "df = pd.DataFrame(data)\n",
    "df.columns\n"
   ]
  },
  {
   "cell_type": "code",
   "execution_count": 19,
   "id": "4491f83b",
   "metadata": {
    "scrolled": true
   },
   "outputs": [
    {
     "data": {
      "text/html": [
       "<div>\n",
       "<style scoped>\n",
       "    .dataframe tbody tr th:only-of-type {\n",
       "        vertical-align: middle;\n",
       "    }\n",
       "\n",
       "    .dataframe tbody tr th {\n",
       "        vertical-align: top;\n",
       "    }\n",
       "\n",
       "    .dataframe thead th {\n",
       "        text-align: right;\n",
       "    }\n",
       "</style>\n",
       "<table border=\"1\" class=\"dataframe\">\n",
       "  <thead>\n",
       "    <tr style=\"text-align: right;\">\n",
       "      <th></th>\n",
       "      <th>Rk</th>\n",
       "      <th>Squad</th>\n",
       "      <th>Country</th>\n",
       "      <th>LgRk</th>\n",
       "      <th>MP</th>\n",
       "      <th>W</th>\n",
       "      <th>D</th>\n",
       "      <th>L</th>\n",
       "      <th>GF</th>\n",
       "      <th>GA</th>\n",
       "      <th>...</th>\n",
       "      <th>Pts</th>\n",
       "      <th>Pts/G</th>\n",
       "      <th>xG</th>\n",
       "      <th>xGA</th>\n",
       "      <th>xGD</th>\n",
       "      <th>xGD/90</th>\n",
       "      <th>Last 5</th>\n",
       "      <th>Attendance</th>\n",
       "      <th>Top Team Scorer</th>\n",
       "      <th>Goalkeeper</th>\n",
       "    </tr>\n",
       "  </thead>\n",
       "  <tbody>\n",
       "    <tr>\n",
       "      <th>0</th>\n",
       "      <td>1</td>\n",
       "      <td>Manchester City</td>\n",
       "      <td>ENG</td>\n",
       "      <td>1</td>\n",
       "      <td>37</td>\n",
       "      <td>28</td>\n",
       "      <td>6</td>\n",
       "      <td>3</td>\n",
       "      <td>96</td>\n",
       "      <td>24</td>\n",
       "      <td>...</td>\n",
       "      <td>90</td>\n",
       "      <td>2.43</td>\n",
       "      <td>86.1</td>\n",
       "      <td>26.8</td>\n",
       "      <td>59.3</td>\n",
       "      <td>1.60</td>\n",
       "      <td>W W W W D</td>\n",
       "      <td>52739</td>\n",
       "      <td>Kevin De Bruyne - 15</td>\n",
       "      <td>Ederson</td>\n",
       "    </tr>\n",
       "    <tr>\n",
       "      <th>1</th>\n",
       "      <td>2</td>\n",
       "      <td>Liverpool</td>\n",
       "      <td>ENG</td>\n",
       "      <td>2</td>\n",
       "      <td>36</td>\n",
       "      <td>26</td>\n",
       "      <td>8</td>\n",
       "      <td>2</td>\n",
       "      <td>89</td>\n",
       "      <td>24</td>\n",
       "      <td>...</td>\n",
       "      <td>86</td>\n",
       "      <td>2.39</td>\n",
       "      <td>84.6</td>\n",
       "      <td>33.1</td>\n",
       "      <td>51.4</td>\n",
       "      <td>1.43</td>\n",
       "      <td>W W W D W</td>\n",
       "      <td>53367</td>\n",
       "      <td>Mohamed Salah - 22</td>\n",
       "      <td>Alisson</td>\n",
       "    </tr>\n",
       "    <tr>\n",
       "      <th>2</th>\n",
       "      <td>3</td>\n",
       "      <td>Real Madrid</td>\n",
       "      <td>ESP</td>\n",
       "      <td>1</td>\n",
       "      <td>37</td>\n",
       "      <td>26</td>\n",
       "      <td>7</td>\n",
       "      <td>4</td>\n",
       "      <td>80</td>\n",
       "      <td>31</td>\n",
       "      <td>...</td>\n",
       "      <td>85</td>\n",
       "      <td>2.30</td>\n",
       "      <td>73.0</td>\n",
       "      <td>45.8</td>\n",
       "      <td>27.2</td>\n",
       "      <td>0.73</td>\n",
       "      <td>W W L W D</td>\n",
       "      <td>40624</td>\n",
       "      <td>Karim Benzema - 27</td>\n",
       "      <td>Thibaut Courtois</td>\n",
       "    </tr>\n",
       "    <tr>\n",
       "      <th>3</th>\n",
       "      <td>4</td>\n",
       "      <td>Bayern Munich</td>\n",
       "      <td>GER</td>\n",
       "      <td>1</td>\n",
       "      <td>34</td>\n",
       "      <td>24</td>\n",
       "      <td>5</td>\n",
       "      <td>5</td>\n",
       "      <td>97</td>\n",
       "      <td>37</td>\n",
       "      <td>...</td>\n",
       "      <td>77</td>\n",
       "      <td>2.26</td>\n",
       "      <td>88.1</td>\n",
       "      <td>37.1</td>\n",
       "      <td>51.0</td>\n",
       "      <td>1.50</td>\n",
       "      <td>W W L D D</td>\n",
       "      <td>33176</td>\n",
       "      <td>Robert Lewandowski - 35</td>\n",
       "      <td>Manuel Neuer</td>\n",
       "    </tr>\n",
       "    <tr>\n",
       "      <th>4</th>\n",
       "      <td>5</td>\n",
       "      <td>Paris S-G</td>\n",
       "      <td>FRA</td>\n",
       "      <td>1</td>\n",
       "      <td>37</td>\n",
       "      <td>25</td>\n",
       "      <td>8</td>\n",
       "      <td>4</td>\n",
       "      <td>85</td>\n",
       "      <td>36</td>\n",
       "      <td>...</td>\n",
       "      <td>83</td>\n",
       "      <td>2.24</td>\n",
       "      <td>71.6</td>\n",
       "      <td>38.1</td>\n",
       "      <td>33.4</td>\n",
       "      <td>0.90</td>\n",
       "      <td>W D D D W</td>\n",
       "      <td>41188</td>\n",
       "      <td>Kylian Mbappé - 25</td>\n",
       "      <td>Keylor Navas</td>\n",
       "    </tr>\n",
       "  </tbody>\n",
       "</table>\n",
       "<p>5 rows × 21 columns</p>\n",
       "</div>"
      ],
      "text/plain": [
       "   Rk            Squad Country  LgRk  MP   W  D  L  GF  GA  ...  Pts  Pts/G  \\\n",
       "0   1  Manchester City     ENG     1  37  28  6  3  96  24  ...   90   2.43   \n",
       "1   2        Liverpool     ENG     2  36  26  8  2  89  24  ...   86   2.39   \n",
       "2   3      Real Madrid     ESP     1  37  26  7  4  80  31  ...   85   2.30   \n",
       "3   4    Bayern Munich     GER     1  34  24  5  5  97  37  ...   77   2.26   \n",
       "4   5        Paris S-G     FRA     1  37  25  8  4  85  36  ...   83   2.24   \n",
       "\n",
       "     xG   xGA   xGD  xGD/90     Last 5 Attendance          Top Team Scorer  \\\n",
       "0  86.1  26.8  59.3    1.60  W W W W D      52739     Kevin De Bruyne - 15   \n",
       "1  84.6  33.1  51.4    1.43  W W W D W      53367       Mohamed Salah - 22   \n",
       "2  73.0  45.8  27.2    0.73  W W L W D      40624       Karim Benzema - 27   \n",
       "3  88.1  37.1  51.0    1.50  W W L D D      33176  Robert Lewandowski - 35   \n",
       "4  71.6  38.1  33.4    0.90  W D D D W      41188       Kylian Mbappé - 25   \n",
       "\n",
       "         Goalkeeper  \n",
       "0           Ederson  \n",
       "1           Alisson  \n",
       "2  Thibaut Courtois  \n",
       "3      Manuel Neuer  \n",
       "4      Keylor Navas  \n",
       "\n",
       "[5 rows x 21 columns]"
      ]
     },
     "execution_count": 19,
     "metadata": {},
     "output_type": "execute_result"
    }
   ],
   "source": [
    "df.head(5)"
   ]
  },
  {
   "cell_type": "code",
   "execution_count": 20,
   "id": "afcb9d73",
   "metadata": {},
   "outputs": [
    {
     "data": {
      "text/plain": [
       "(98, 21)"
      ]
     },
     "execution_count": 20,
     "metadata": {},
     "output_type": "execute_result"
    }
   ],
   "source": [
    "df.shape "
   ]
  },
  {
   "cell_type": "code",
   "execution_count": 106,
   "id": "ac579179",
   "metadata": {},
   "outputs": [
    {
     "data": {
      "text/html": [
       "<div>\n",
       "<style scoped>\n",
       "    .dataframe tbody tr th:only-of-type {\n",
       "        vertical-align: middle;\n",
       "    }\n",
       "\n",
       "    .dataframe tbody tr th {\n",
       "        vertical-align: top;\n",
       "    }\n",
       "\n",
       "    .dataframe thead th {\n",
       "        text-align: right;\n",
       "    }\n",
       "</style>\n",
       "<table border=\"1\" class=\"dataframe\">\n",
       "  <thead>\n",
       "    <tr style=\"text-align: right;\">\n",
       "      <th></th>\n",
       "      <th>xG</th>\n",
       "      <th>xGA</th>\n",
       "      <th>xGD</th>\n",
       "      <th>Rk</th>\n",
       "    </tr>\n",
       "  </thead>\n",
       "  <tbody>\n",
       "    <tr>\n",
       "      <th>0</th>\n",
       "      <td>86.1</td>\n",
       "      <td>26.8</td>\n",
       "      <td>59.3</td>\n",
       "      <td>1</td>\n",
       "    </tr>\n",
       "    <tr>\n",
       "      <th>1</th>\n",
       "      <td>84.6</td>\n",
       "      <td>33.1</td>\n",
       "      <td>51.4</td>\n",
       "      <td>2</td>\n",
       "    </tr>\n",
       "    <tr>\n",
       "      <th>2</th>\n",
       "      <td>73.0</td>\n",
       "      <td>45.8</td>\n",
       "      <td>27.2</td>\n",
       "      <td>3</td>\n",
       "    </tr>\n",
       "    <tr>\n",
       "      <th>3</th>\n",
       "      <td>88.1</td>\n",
       "      <td>37.1</td>\n",
       "      <td>51.0</td>\n",
       "      <td>4</td>\n",
       "    </tr>\n",
       "    <tr>\n",
       "      <th>4</th>\n",
       "      <td>71.6</td>\n",
       "      <td>38.1</td>\n",
       "      <td>33.4</td>\n",
       "      <td>5</td>\n",
       "    </tr>\n",
       "    <tr>\n",
       "      <th>...</th>\n",
       "      <td>...</td>\n",
       "      <td>...</td>\n",
       "      <td>...</td>\n",
       "      <td>...</td>\n",
       "    </tr>\n",
       "    <tr>\n",
       "      <th>93</th>\n",
       "      <td>41.3</td>\n",
       "      <td>68.5</td>\n",
       "      <td>-27.2</td>\n",
       "      <td>94</td>\n",
       "    </tr>\n",
       "    <tr>\n",
       "      <th>94</th>\n",
       "      <td>35.4</td>\n",
       "      <td>70.5</td>\n",
       "      <td>-35.1</td>\n",
       "      <td>95</td>\n",
       "    </tr>\n",
       "    <tr>\n",
       "      <th>95</th>\n",
       "      <td>37.8</td>\n",
       "      <td>64.1</td>\n",
       "      <td>-26.3</td>\n",
       "      <td>96</td>\n",
       "    </tr>\n",
       "    <tr>\n",
       "      <th>96</th>\n",
       "      <td>33.0</td>\n",
       "      <td>73.3</td>\n",
       "      <td>-40.4</td>\n",
       "      <td>97</td>\n",
       "    </tr>\n",
       "    <tr>\n",
       "      <th>97</th>\n",
       "      <td>30.7</td>\n",
       "      <td>60.3</td>\n",
       "      <td>-29.6</td>\n",
       "      <td>98</td>\n",
       "    </tr>\n",
       "  </tbody>\n",
       "</table>\n",
       "<p>98 rows × 4 columns</p>\n",
       "</div>"
      ],
      "text/plain": [
       "      xG   xGA   xGD  Rk\n",
       "0   86.1  26.8  59.3   1\n",
       "1   84.6  33.1  51.4   2\n",
       "2   73.0  45.8  27.2   3\n",
       "3   88.1  37.1  51.0   4\n",
       "4   71.6  38.1  33.4   5\n",
       "..   ...   ...   ...  ..\n",
       "93  41.3  68.5 -27.2  94\n",
       "94  35.4  70.5 -35.1  95\n",
       "95  37.8  64.1 -26.3  96\n",
       "96  33.0  73.3 -40.4  97\n",
       "97  30.7  60.3 -29.6  98\n",
       "\n",
       "[98 rows x 4 columns]"
      ]
     },
     "execution_count": 106,
     "metadata": {},
     "output_type": "execute_result"
    }
   ],
   "source": [
    "# Nos quedaremos con las características sintéticas ...['Rk','xG','xGA','xGD']\n",
    "\n",
    "new_df =  df[['xG','xGA','xGD','Rk']]\n",
    "new_df"
   ]
  },
  {
   "cell_type": "code",
   "execution_count": 107,
   "id": "41ce80a9",
   "metadata": {},
   "outputs": [],
   "source": [
    "corr = new_df.corr()   # primer vistazo visual "
   ]
  },
  {
   "cell_type": "code",
   "execution_count": 108,
   "id": "4164b689",
   "metadata": {},
   "outputs": [
    {
     "data": {
      "image/png": "[encoded data removed]",
      "text/plain": [
       "<Figure size 500x500 with 1 Axes>"
      ]
     },
     "metadata": {},
     "output_type": "display_data"
    }
   ],
   "source": [
    "import matplotlib.pyplot as plt\n",
    "import seaborn as sns\n",
    "\n",
    "plt.figure(figsize=(5,5))\n",
    "\n",
    "\n",
    "heatmap =sns.heatmap(corr, cbar = False, square= True, fmt='.2%', annot=True, cmap='Greens')"
   ]
  },
  {
   "cell_type": "markdown",
   "id": "8f5a5712",
   "metadata": {},
   "source": [
    "- Exercici 1\n",
    "Descarrega el dataset adjunt de dades oficials de la UEFA i selecciona un atribut del conjunt de dades. Calcula el p-valor i digues si rebutja la hipòtesi nul·la agafant un alfa de 5%. "
   ]
  },
  {
   "cell_type": "code",
   "execution_count": 34,
   "id": "1dadfb71",
   "metadata": {},
   "outputs": [
    {
     "name": "stdout",
     "output_type": "stream",
     "text": [
      "Statistics=-4.934, p=0.000\n",
      "\n",
      "Different distributions (reject H0, son grupos diferentes )\n",
      "\n",
      "Podemos decir con un 5% de margen de error que la estadística xGD (Puntos/Diferencia de Goles) SI explica la diferencia de Ranking  \n"
     ]
    }
   ],
   "source": [
    "# Veamos si la estadística xGD ( puntos/Diferencia Goles )  Vs Rk\n",
    "\n",
    "\n",
    "# H0: winners ( Top 20Rk ) son tambien los que tiene una mejor estadística (Top 20xGD ) \n",
    "#      \n",
    "#                         ..dicho de otra forma ...xGD  NO explica las diferencia de Ranking\n",
    "    \n",
    " # H1 : xGD SI explica las diferencia de Ranking\n",
    "\n",
    "\n",
    "data1_Rk = winners_Rk = new_df[:20]['Rk']\n",
    "data1_xGD = winners_xG  = new_df[:20]['xGD'].sort_values(ascending = False)\n",
    "\n",
    "\n",
    "\n",
    "\n",
    "from scipy.stats import ttest_ind\n",
    "\n",
    "\n",
    "stat, p = ttest_ind(data1_Rk, data1_xGD)                 # TOP20 Rk  Vs TOP20 xGD\n",
    "print('Statistics=%.3f, p=%.3f' % (stat, p))\n",
    "\n",
    "# interpret\n",
    "alpha = 0.05\n",
    "if p > alpha:\n",
    "    \n",
    "\tprint('Same distributions (fail to reject H0).\\n\\nPodemos decir con un 5% de margen de error que la estadística xGD NO explica \\nla diferencia de Ranking  ')\n",
    "else:\n",
    "\tprint('\\nDifferent distributions (reject H0, son grupos diferentes )\\n\\nPodemos decir con un 5% de margen de error que la estadística xGD (Puntos/Diferencia de Goles) SI explica la diferencia de Ranking  ')\n"
   ]
  },
  {
   "cell_type": "code",
   "execution_count": null,
   "id": "5c007826",
   "metadata": {},
   "outputs": [],
   "source": []
  },
  {
   "cell_type": "code",
   "execution_count": null,
   "id": "5ddca6dc",
   "metadata": {},
   "outputs": [],
   "source": []
  },
  {
   "cell_type": "code",
   "execution_count": null,
   "id": "634b7e44",
   "metadata": {},
   "outputs": [],
   "source": [
    "# Hagamos lo mismo con la variable sintética ( polinomio) xGA ( Puntos/ Goles en contra)"
   ]
  },
  {
   "cell_type": "code",
   "execution_count": 84,
   "id": "def4cddf",
   "metadata": {},
   "outputs": [
    {
     "name": "stdout",
     "output_type": "stream",
     "text": [
      "Statistics=-15.596, p=0.000\n",
      "Different distributions (reject H0)\n",
      "\n",
      "Podemos decir con un 5% de margen de error que la estadística xGA (Puntos/GolesContra) SI explica \n",
      "la diferencia de Ranking \n"
     ]
    }
   ],
   "source": [
    "# H0: Winners ( Top 20Rk )  son tambien los que tiene  una mejor estadística (Top 20xGA ) \n",
    "#      \n",
    "#                         ..dicho de otra forma ...xGA  NO explica las diferencia de Ranking\n",
    "    \n",
    " # H1 : xGA SI explica las diferencia de Ranking\n",
    "\n",
    "from scipy.stats import ttest_ind\n",
    "\n",
    "\n",
    "data2_Rk = winners_Rk = new_df[:20]['Rk']\n",
    "data2_xGA = winners_xG  = (new_df[:20]['xGA']).sort_values(ascending = False) \n",
    "\n",
    "\n",
    "\n",
    "\n",
    "stat, p = ttest_ind(data2_Rk, data2_xGA)                 # TOP20 Rk  Vs TOP20 xGA\n",
    "print('Statistics=%.3f, p=%.3f' % (stat, p))\n",
    "\n",
    "# interpret\n",
    "alpha = 0.05\n",
    "if p > alpha:\n",
    "    \n",
    "\tprint('Same distributions (fail to reject H0).\\n\\nPodemos decir con un 5% de margen de error que la estadística xGA no explica \\nla diferencia de Ranking  ')\n",
    "else:\n",
    "\tprint('Different distributions (reject H0)\\n\\nPodemos decir con un 5% de margen de error que la estadística xGA (Puntos/GolesContra) SI explica \\nla diferencia de Ranking ')\n"
   ]
  },
  {
   "cell_type": "code",
   "execution_count": null,
   "id": "60fa24e4",
   "metadata": {},
   "outputs": [],
   "source": [
    "# Lo mismo conla última variable sintética P/Gol"
   ]
  },
  {
   "cell_type": "code",
   "execution_count": 36,
   "id": "7f29f9f4",
   "metadata": {},
   "outputs": [
    {
     "name": "stdout",
     "output_type": "stream",
     "text": [
      "Statistics=-17.572, p=0.000\n",
      "Different distributions (reject H0)\n",
      "\n",
      "Podemos decir con un 5% de margen de error que la estadística xG (Puntos/GolFavor) SI explica \n",
      "la diferencia de Ranking  \n"
     ]
    }
   ],
   "source": [
    "data3_Rk = winners_Rk = df[:20]['Rk']\n",
    "data3_xG = winners_xGD  = df[:20]['xG'].sort_values(ascending = False)\n",
    "\n",
    "\n",
    "\n",
    "\n",
    "from scipy.stats import ttest_ind\n",
    "\n",
    "\n",
    "stat, p = ttest_ind(data3_Rk, data3_xG)                 # TOP20 Rk  Vs TOP20 xG (Puntos/Gol)\n",
    "print('Statistics=%.3f, p=%.3f' % (stat, p))\n",
    "\n",
    "# interpret\n",
    "alpha = 0.05\n",
    "if p > alpha:\n",
    "    \n",
    "\tprint('Same distributions (fail to reject H0).\\n\\nPodemos decir con un 5% de margen de error que la estadística xG NO explica \\nla diferencia de Ranking  ')\n",
    "else:\n",
    "\tprint('Different distributions (reject H0)\\n\\nPodemos decir con un 5% de margen de error que la estadística xG (Puntos/GolFavor) SI explica \\nla diferencia de Ranking  ')\n",
    "\n",
    "\n"
   ]
  },
  {
   "cell_type": "code",
   "execution_count": null,
   "id": "daab3f12",
   "metadata": {},
   "outputs": [],
   "source": []
  },
  {
   "cell_type": "markdown",
   "id": "87572c66",
   "metadata": {},
   "source": [
    "- Exercici 2\n",
    "Amb el mateix dataset selecciona dos altres atributs del conjunt de dades. Calcula els p-valors i digues si rebutgen la hipòtesi nul·la agafant un alfa de 5%.\n",
    "\n"
   ]
  },
  {
   "cell_type": "code",
   "execution_count": 117,
   "id": "4edbdf26",
   "metadata": {},
   "outputs": [
    {
     "data": {
      "text/plain": [
       "3    97\n",
       "0    96\n",
       "1    89\n",
       "8    85\n",
       "4    85\n",
       "Name: GF, dtype: int64"
      ]
     },
     "execution_count": 117,
     "metadata": {},
     "output_type": "execute_result"
    }
   ],
   "source": [
    "#Hipotesis :  equipos con la mejor estadística GF tienen más puntos (GF \"explica\" parte del Pts)\n",
    "# Ha : GF no \"explica\" Pts\n",
    "\n",
    "Top20_Goles= (df[:20]['GF']).sort_values(ascending = False) \n",
    "Top20_Puntos = (df[:20]['Pts']).sort_values(ascending = False)\n",
    "\n",
    "Top20_Goles.head(5) #  TOP 20 con la mejor estadística GF"
   ]
  },
  {
   "cell_type": "code",
   "execution_count": 118,
   "id": "35ae3306",
   "metadata": {},
   "outputs": [
    {
     "data": {
      "text/plain": [
       "0    90\n",
       "1    86\n",
       "2    85\n",
       "4    83\n",
       "5    83\n",
       "Name: Pts, dtype: int32"
      ]
     },
     "execution_count": 118,
     "metadata": {},
     "output_type": "execute_result"
    }
   ],
   "source": [
    "Top20_Puntos.head(5)"
   ]
  },
  {
   "cell_type": "code",
   "execution_count": null,
   "id": "40413565",
   "metadata": {},
   "outputs": [],
   "source": []
  },
  {
   "cell_type": "code",
   "execution_count": 119,
   "id": "1b605b8b",
   "metadata": {},
   "outputs": [
    {
     "name": "stdout",
     "output_type": "stream",
     "text": [
      "Statistics=-0.184, p=0.855\n",
      "Same distributions (fail to reject H0).\n",
      "\n",
      "Podemos decir con un 5% de margen de error que la estadística GF (Goles a favor) SI explica la diferencia de Pts\n"
     ]
    }
   ],
   "source": [
    "#...Hipotesis :  equipos con la mejor estadística GF  son max puntos(GF \"explica\" parte del Pts)\n",
    "\n",
    "\n",
    "stat, p = ttest_ind(Top20_Goles, Top20_Puntos)\n",
    "print('Statistics=%.3f, p=%.3f' % (stat, p))\n",
    "\n",
    "# interpret\n",
    "alpha = 0.05\n",
    "if p > alpha:\n",
    "    \n",
    "\tprint('Same distributions (fail to reject H0).\\n\\nPodemos decir con un 5% de margen de error que la estadística GF (Goles a favor) SI explica la diferencia de Pts')\n",
    "\n",
    "    \n",
    "else:\n",
    "\tprint('Different distributions (reject H0)\\n\\nLa estadística GF(Goles a favor)  NO explica la diferencia de Pts  ')\n"
   ]
  },
  {
   "cell_type": "markdown",
   "id": "a9058c13",
   "metadata": {},
   "source": [
    "- Exercici 3\n",
    "Continua amb el conjunt de dades adjunt i selecciona tres atributs del conjunt de dades. Calcula el p-valor i digues si rebutja la hipòtesi nul·la agafant un alfa de 5%.\n",
    "\n"
   ]
  },
  {
   "cell_type": "code",
   "execution_count": 105,
   "id": "374f1e84",
   "metadata": {},
   "outputs": [
    {
     "name": "stdout",
     "output_type": "stream",
     "text": [
      "stat=61.257, p=0.000\n",
      "Probably different distributions,\n",
      "\n",
      "TOP 20 equipos xG ( Estadística Puntos/ Gol) es diferente del TOP 20 xGA ( equipos con mejor estadística Pts/ GA) o bien es diferente del TOP20 xGD\n"
     ]
    }
   ],
   "source": [
    "winners_xGD = data6 = df[:20]['xGD']                                     # Top 20 ( Estadística Puntos/ partido)\n",
    "winners_xG = data7 = df[:20]['xG']                                          # Top 20 ( Estadística Puntos/ Gol)\n",
    "winners_GA = data8 = df[(len(df)-20):]['xGA'].sort_values(ascending = False)  # Top 20 (Estadística Puntos/ GolAgainst, equipos menor xGA)\n",
    "\n",
    "\n",
    "\n",
    "\n",
    "# data6() vs data7() vs data8()  : H0 : TOP20 estadística xGD es el mismo TOP20 de mejor estadísticas xG y xGA\n",
    "\n",
    "#vs data8()\n",
    "\n",
    "from scipy.stats import f_oneway\n",
    "stat, p = f_oneway( data6, data7, data8)\n",
    "print('stat=%.3f, p=%.3f' % (stat, p))\n",
    "if p > 0.05:\n",
    " print('Probably the same distribution\\n\\n,estas 3 características ( MAX puntos, MAX GolesFavor  y MIN GolesContra ) están relacionadas i explican la clasificación')\n",
    "else:\n",
    " print('Probably different distributions,\\n\\nTOP 20 equipos xG ( Estadística Puntos/ Gol) es diferente del TOP 20 xGA ( equipos con mejor estadística Pts/ GA) o bien es diferente del TOP20 xGD')"
   ]
  },
  {
   "cell_type": "markdown",
   "id": "9fd439c5",
   "metadata": {},
   "source": [
    "Si hacemos ANOVA por separado ( 2 grupos ) veremos si alguno de los 3 grupos tiene distribuciones similares "
   ]
  },
  {
   "cell_type": "code",
   "execution_count": null,
   "id": "c8bb5ffc",
   "metadata": {},
   "outputs": [],
   "source": [
    "winners_xGD = data6 = df[:20]['xGD']                                     # Top 20 ( Estadística Puntos/ partido)\n",
    "winners_xG = data7 = df[:20]['xG']                                          # Top 20 ( Estadística Puntos/ Gol)\n",
    "winners_GA = data8 = df[(len(df)-20):]['xGA'].sort_values(ascending = False)  # Top 20 (Estadística Puntos/ GolAgainst, equipos menor xGA)\n"
   ]
  },
  {
   "cell_type": "code",
   "execution_count": 81,
   "id": "c69a1d91",
   "metadata": {},
   "outputs": [
    {
     "name": "stdout",
     "output_type": "stream",
     "text": [
      "stat=80.342, p=0.000\n",
      "Probably different distributions,\n",
      "\n",
      "TOP 20 equipos xG ( Estadística Puntos/ Gol) es diferente del TOP 20 xGD ( equipos con mejor estadística Pts/ Diferencia de Goles) \n"
     ]
    }
   ],
   "source": [
    "# Anova test 2 grupos TOP 20 xGD  vs TOP20 xG\n",
    "\n",
    "\n",
    "from scipy.stats import f_oneway\n",
    "stat, p = f_oneway( data6, data7)    #  TOP 20 xGD  vs TOP20 xG\n",
    "print('stat=%.3f, p=%.3f' % (stat, p))\n",
    "if p > 0.05:\n",
    " print('Probably the same distribution\\n\\n,TOP 20 equipos xG ( Estadística Puntos/ Gol) es igual del TOP 20 xGD ( equipos con mejor estadística Pts/ Diferencia de Goles)' )\n",
    "else:\n",
    " print('Probably different distributions,\\n\\nTOP 20 equipos xG ( Estadística Puntos/ Gol) es diferente del TOP 20 xGD ( equipos con mejor estadística Pts/ Diferencia de Goles) ')"
   ]
  },
  {
   "cell_type": "code",
   "execution_count": 102,
   "id": "ae872acf",
   "metadata": {},
   "outputs": [
    {
     "name": "stdout",
     "output_type": "stream",
     "text": [
      "stat=2.557, p=0.118\n",
      "Probably the same distribution\n",
      "\n",
      "TOP 20 equipos xGA ( Puntos/ Gol en contra ) es similar del TOP 20 xG ( equipos con mejor estadística Pts/ Goles)\n"
     ]
    }
   ],
   "source": [
    "# Anova test 2 grupos :TOP 20 xG  vs TOP20 xGA\n",
    "\n",
    "from scipy.stats import f_oneway\n",
    "stat, p = f_oneway( data7, data8)   #  TOP 20 xG  vs TOP20 xGA\n",
    "print('stat=%.3f, p=%.3f' % (stat, p))\n",
    "if p > 0.05:\n",
    " print('Probably the same distribution\\n\\nTOP 20 equipos xGA ( Puntos/ Gol en contra ) es similar del TOP 20 xG ( equipos con mejor estadística Pts/ Goles)')\n",
    "else:\n",
    " print('Probably different distributions,\\n\\nTOP 20 equipos xGA ( Puntos/ Gol en contra ) es diferente del TOP 20 xG ( equipos con mejor estadística Pts/ Goles) ')"
   ]
  },
  {
   "cell_type": "code",
   "execution_count": 104,
   "id": "6834bdb1",
   "metadata": {},
   "outputs": [
    {
     "name": "stdout",
     "output_type": "stream",
     "text": [
      "stat=2.557, p=0.118\n",
      "Probably the same distribution\n",
      "\n",
      "TOP 20 equipos xGA ( Puntos/ Gol en contra ) es similar del TOP 20 xGD ( equipos con mejor estadística Pts/ Diferencia de Goles)\n"
     ]
    }
   ],
   "source": [
    "# Anova test 2 grupos :TOP 20 xGD  vs TOP20 xG\n",
    "\n",
    "from scipy.stats import f_oneway\n",
    "stat, p = f_oneway( data7, data8)   #  TOP 20 xGD  vs TOP20 xGA\n",
    "print('stat=%.3f, p=%.3f' % (stat, p))\n",
    "if p > 0.05:\n",
    " print('Probably the same distribution\\n\\nTOP 20 equipos xGA ( Puntos/ Gol en contra ) es similar del TOP 20 xGD ( equipos con mejor estadística Pts/ Diferencia de Goles)')\n",
    "else:\n",
    " print('Probably different distributions,\\n\\nTOP 20 equipos xGA ( Puntos/ Gol en contra ) es diferente del TOP 20 xGD ( equipos con mejor estadística Pts/ Diferencia de Goles) ')"
   ]
  },
  {
   "cell_type": "markdown",
   "id": "0b299778",
   "metadata": {},
   "source": [
    "Tras los tres Test Anova ( 2 grupos) vemos que el grupo  TOP 20 xGD  !=   TOP20 xG\n",
    "                                           que el grupo  TOP 20 xGD   =   TOP20 xGA\n",
    "                                           que el grupo  TOP 20 xG    =   TOP20 xGA\n",
    "        \n",
    "        \n",
    "Sería suficiente  con conservar xGD y xGA como variables explicativas  y desestimar xG.  \n",
    "        \n",
    "        \n",
    "        "
   ]
  },
  {
   "cell_type": "code",
   "execution_count": 60,
   "id": "b1e4dba9",
   "metadata": {},
   "outputs": [
    {
     "name": "stdout",
     "output_type": "stream",
     "text": [
      "stat=0.97, p=0.03\n",
      "Probably not Gaussian, not normal distribution\n"
     ]
    }
   ],
   "source": [
    "# Vamos a ver si la clasificación ( Pts) tiene una distribución Normal\n",
    "\n",
    "# 1. Normality Tests ( check if your data has a Gaussian distribution.)\n",
    "#Shapiro-Wilk Test\n",
    "import pandas as pd\n",
    "import numpy as np\n",
    "import seaborn as sns\n",
    "\n",
    "\n",
    "\n",
    "from scipy.stats import shapiro\n",
    "stat, p = shapiro(df['Pts'])\n",
    "print('stat=%.2f, p=%.2f' % (stat, p))\n",
    "if p > 0.05:\n",
    "\tprint('Probably Gaussian')\n",
    "else:\n",
    "\tprint('Probably not Gaussian, not normal distribution')\n",
    "\n"
   ]
  },
  {
   "cell_type": "code",
   "execution_count": 62,
   "id": "68165f1b",
   "metadata": {},
   "outputs": [
    {
     "data": {
      "text/plain": [
       "<seaborn.axisgrid.FacetGrid at 0x2dcec4b6cb0>"
      ]
     },
     "execution_count": 62,
     "metadata": {},
     "output_type": "execute_result"
    },
    {
     "data": {
      "image/png": "[encoded data removed]",
      "text/plain": [
       "<Figure size 500x500 with 1 Axes>"
      ]
     },
     "metadata": {},
     "output_type": "display_data"
    }
   ],
   "source": [
    "#Vamos a ver gráficamente si la clasificacion tiene forma Normal ( Gaussiana) o no como sugiere el Shapiro Test previo...\n",
    "\n",
    "\n",
    "\n",
    "sns.displot(data = data, x = 'Pts', kde = True, bins = len(df))  # distribución equipos/puntos\n",
    "\n",
    "\n",
    "# La clasificación ( Pts) tiene una distribución \"Right-tailed\", hay más equipos en la parte baja de la clasificación que en la parte alta de la clasificación.\n",
    "# Tiene una forma parecida a una distribución Normal de todas formas. Vamos a intentar confirmar con otro Test"
   ]
  },
  {
   "cell_type": "code",
   "execution_count": 63,
   "id": "52e36c82",
   "metadata": {},
   "outputs": [
    {
     "name": "stdout",
     "output_type": "stream",
     "text": [
      "stat=4.330, p=0.115\n",
      "Probably Gaussian\n"
     ]
    }
   ],
   "source": [
    "#  D'Agostino's K^2 Normality Test\n",
    "\n",
    "from scipy.stats import normaltest\n",
    "stat, p = normaltest(df['Pts'])\n",
    "print('stat=%.3f, p=%.3f' % (stat, p))\n",
    "if p > 0.05:\n",
    " print('Probably Gaussian')\n",
    "else:\n",
    " print('Probably not Gaussian')"
   ]
  },
  {
   "cell_type": "code",
   "execution_count": null,
   "id": "a6590828",
   "metadata": {},
   "outputs": [],
   "source": [
    "# Este Test nos dice lo contrario, probablemente la clasificación ( data.Pts) Si tiene una distribución Normal"
   ]
  },
  {
   "cell_type": "code",
   "execution_count": 88,
   "id": "a66547ba",
   "metadata": {},
   "outputs": [
    {
     "name": "stdout",
     "output_type": "stream",
     "text": [
      "stat=-0.897, p=0.000\n",
      "Probably dependent\n"
     ]
    }
   ],
   "source": [
    "# Pearson's Correlation test\n",
    "\n",
    "from scipy.stats import pearsonr\n",
    "\n",
    "data9 = df['Rk']\n",
    "data10 = df['xGD']\n",
    "stat, p = pearsonr(data9, data10)\n",
    "print('stat=%.3f, p=%.3f' % (stat, p))\n",
    "if p > 0.05:\n",
    "\tprint('Probably independent')\n",
    "else:\n",
    "\tprint('Probably dependent')"
   ]
  },
  {
   "cell_type": "code",
   "execution_count": null,
   "id": "bd600077",
   "metadata": {},
   "outputs": [],
   "source": []
  }
 ],
 "metadata": {
  "kernelspec": {
   "display_name": "Python 3 (ipykernel)",
   "language": "python",
   "name": "python3"
  },
  "language_info": {
   "codemirror_mode": {
    "name": "ipython",
    "version": 3
   },
   "file_extension": ".py",
   "mimetype": "text/x-python",
   "name": "python",
   "nbconvert_exporter": "python",
   "pygments_lexer": "ipython3",
   "version": "3.10.9"
  }
 },
 "nbformat": 4,
 "nbformat_minor": 5
}
